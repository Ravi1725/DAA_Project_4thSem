{
 "cells": [
  {
   "cell_type": "markdown",
   "metadata": {},
   "source": [
    "## Design and analysis of Algorithms project\n",
    "\n",
    "#### **Topic** - Implementing own encryption and decryption algorithm using some basic ciphers. "
   ]
  },
  {
   "cell_type": "code",
   "execution_count": 1,
   "metadata": {},
   "outputs": [
    {
     "name": "stdout",
     "output_type": "stream",
     "text": [
      "Enter a String: man\n"
     ]
    }
   ],
   "source": [
    "input_string = input('Enter a String: ')\n",
    "# for i in input_string:\n",
    "#     print(bin(ord(i)))"
   ]
  },
  {
   "cell_type": "code",
   "execution_count": 2,
   "metadata": {},
   "outputs": [
    {
     "data": {
      "text/plain": [
       "int"
      ]
     },
     "execution_count": 2,
     "metadata": {},
     "output_type": "execute_result"
    }
   ],
   "source": [
    "type(ord('A'))"
   ]
  },
  {
   "cell_type": "code",
   "execution_count": 14,
   "metadata": {},
   "outputs": [
    {
     "name": "stdout",
     "output_type": "stream",
     "text": [
      "Character --- Binary\n",
      "110110111000011101110\n",
      "['1', '1', '0', '1', '1', '0', '1', '1', '1', '0', '0', '0', '0', '1', '1', '1', '0', '1', '1', '1', '0']\n",
      "<class 'str'>\n"
     ]
    }
   ],
   "source": [
    "def ascii_to_binary(character):\n",
    "    \"\"\"\n",
    "    \n",
    "    \"\"\"\n",
    "    n = ord(character)\n",
    "    i = 0\n",
    "    sum = 0\n",
    "    while n > 0:\n",
    "        x = n % 2\n",
    "        n = n // 2\n",
    "        sum = sum + x * pow(10, i)\n",
    "        i += 1\n",
    "#     print('{:10s} -> {:08d}'.format(character,sum))\n",
    "    return sum\n",
    "    \n",
    "j = 0\n",
    "complete_bin_message = 0\n",
    "print('Character --- Binary')\n",
    "for i in range(len(input_string)-1,-1,-1):\n",
    "    bin_message = ascii_to_binary(input_string[i])\n",
    "    # For converting separate binary string into complete binary sequence\n",
    "    complete_bin_message = complete_bin_message + bin_message * pow(10, j)\n",
    "    j += 7 # for skipping 7 bits, then adding next 7 seven bits\n",
    "print(complete_bin_message)\n",
    "temp = []\n",
    "temp = list(str(complete_bin_message))\n",
    "print(temp)\n",
    "def ones_complement(temp):\n",
    "    count = 0\n",
    "    while count < len(temp):\n",
    "        if temp[count] == '1':\n",
    "            temp[count] = '0'\n",
    "        elif temp[count] == '0':\n",
    "            temp[count] = '1'\n",
    "        count += 1\n",
    "ones_complement(temp)"
   ]
  },
  {
   "cell_type": "code",
   "execution_count": 5,
   "metadata": {},
   "outputs": [
    {
     "name": "stdout",
     "output_type": "stream",
     "text": [
      "['1', '9', '0']\n"
     ]
    }
   ],
   "source": [
    "new = list(str(190))\n",
    "print(new)"
   ]
  },
  {
   "cell_type": "code",
   "execution_count": null,
   "metadata": {},
   "outputs": [],
   "source": []
  }
 ],
 "metadata": {
  "kernelspec": {
   "display_name": "Python 3",
   "language": "python",
   "name": "python3"
  },
  "language_info": {
   "codemirror_mode": {
    "name": "ipython",
    "version": 3
   },
   "file_extension": ".py",
   "mimetype": "text/x-python",
   "name": "python",
   "nbconvert_exporter": "python",
   "pygments_lexer": "ipython3",
   "version": "3.7.1"
  }
 },
 "nbformat": 4,
 "nbformat_minor": 2
}
