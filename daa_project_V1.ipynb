{
 "cells": [
  {
   "cell_type": "markdown",
   "metadata": {},
   "source": [
    "## Design and analysis of Algorithms project\n",
    "\n",
    "#### **Topic** - Implementing own encryption and decryption algorithm using some basic ciphers. "
   ]
  },
  {
   "cell_type": "code",
   "execution_count": 1,
   "metadata": {},
   "outputs": [
    {
     "name": "stdout",
     "output_type": "stream",
     "text": [
      "Enter a String: CAT\n"
     ]
    }
   ],
   "source": [
    "input_string = input('Enter a String to encrypt: ')"
   ]
  },
  {
   "cell_type": "code",
   "execution_count": 11,
   "metadata": {},
   "outputs": [
    {
     "name": "stdout",
     "output_type": "stream",
     "text": [
      "Character --- Binary\n",
      "T          -> 01010100\n",
      "A          -> 01000001\n",
      "C          -> 01000011\n",
      "100001110000011010100\n",
      "----Message in One's complemented form----\n",
      "0 1 1 1 1 0 0 0 1 1 1 1 1 0 0 1 0 1 0 1 1 "
     ]
    }
   ],
   "source": [
    "def ascii_to_binary(character):\n",
    "    \"\"\"\n",
    "    This function takes each character of the message and\n",
    "    returns its binary equivalent.\n",
    "    \"\"\"\n",
    "    n = ord(character)\n",
    "    i = 0\n",
    "    sum = 0\n",
    "    while n > 0:\n",
    "        x = n % 2\n",
    "        n = n // 2\n",
    "        sum = sum + x * pow(10, i)\n",
    "        i += 1\n",
    "    print('{:10s} -> {:08d}'.format(character,sum))\n",
    "    return sum\n",
    "    \n",
    "j = 0\n",
    "complete_bin_message = 0\n",
    "print('Character --- Binary')\n",
    "for i in range(len(input_string)-1,-1,-1):\n",
    "    bin_message = ascii_to_binary(input_string[i])\n",
    "    # For converting separate binary string into complete binary sequence\n",
    "    complete_bin_message = complete_bin_message + bin_message * pow(10, j)\n",
    "    j += 7 # for skipping 7 bits, then adding next 7 seven bits\n",
    "print(complete_bin_message)\n",
    "\n",
    "list_message = list(str(complete_bin_message))\n",
    "# print(list_message)\n",
    "def ones_complement(list_message):\n",
    "    \"\"\"\n",
    "    Takes the message in list form and converts it to one's complement form.\n",
    "    \"\"\"\n",
    "    for index in range(len(list_message)):\n",
    "        if list_message[index] == '1':\n",
    "            list_message[index] = '0'\n",
    "        else:\n",
    "            list_message[index] = '1'\n",
    "    print(\"----Message in One's complemented form----\")\n",
    "    for bit in list_message:\n",
    "        print(bit, end=' ')\n",
    "ones_complement(list_message)"
   ]
  },
  {
   "cell_type": "code",
   "execution_count": null,
   "metadata": {},
   "outputs": [],
   "source": []
  },
  {
   "cell_type": "code",
   "execution_count": null,
   "metadata": {},
   "outputs": [],
   "source": []
  }
 ],
 "metadata": {
  "kernelspec": {
   "display_name": "Python 3",
   "language": "python",
   "name": "python3"
  },
  "language_info": {
   "codemirror_mode": {
    "name": "ipython",
    "version": 3
   },
   "file_extension": ".py",
   "mimetype": "text/x-python",
   "name": "python",
   "nbconvert_exporter": "python",
   "pygments_lexer": "ipython3",
   "version": "3.7.1"
  }
 },
 "nbformat": 4,
 "nbformat_minor": 2
}
